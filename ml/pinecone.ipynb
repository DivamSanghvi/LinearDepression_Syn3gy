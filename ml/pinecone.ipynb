{
 "cells": [
  {
   "cell_type": "code",
   "execution_count": 8,
   "metadata": {},
   "outputs": [
    {
     "name": "stdout",
     "output_type": "stream",
     "text": [
      "pcsk_4aB64N_LzWfjp8q9AgJ2wM6zbV3v3nF8hxmCtKaKbXPbfDHYH4j9mg8doapR12BCjUMyx6\n"
     ]
    }
   ],
   "source": [
    "from dotenv import load_dotenv\n",
    "import os\n",
    "load_dotenv()   \n",
    "PINECONE_API_KEY = os.getenv(\"PINECONE_API_KEY\")\n",
    "print(PINECONE_API_KEY)"
   ]
  },
  {
   "cell_type": "code",
   "execution_count": 12,
   "metadata": {},
   "outputs": [],
   "source": [
    "from pinecone.grpc import PineconeGRPC as Pinecone\n",
    "\n",
    "pc = Pinecone(api_key=PINECONE_API_KEY)\n",
    "\n",
    "# To get the unique host for an index, \n",
    "# see https://docs.pinecone.io/guides/data/target-an-index\n",
    "index = pc.Index(host=\"synergyfinal\")\n"
   ]
  },
  {
   "cell_type": "code",
   "execution_count": 17,
   "metadata": {},
   "outputs": [
    {
     "name": "stdout",
     "output_type": "stream",
     "text": [
      "<pinecone.data.index.Index object at 0x00000177A4B20ED0>\n"
     ]
    },
    {
     "data": {
      "text/plain": [
       "{'upserted_count': 9}"
      ]
     },
     "execution_count": 17,
     "metadata": {},
     "output_type": "execute_result"
    }
   ],
   "source": [
    "from pinecone import Pinecone\n",
    "import json\n",
    "import uuid\n",
    "\n",
    "pc = Pinecone(api_key=PINECONE_API_KEY)\n",
    "\n",
    "# Load JSON file\n",
    "with open(\"transcripts_with_timestamps.json\", \"r\") as f:\n",
    "    data = json.load(f)\n",
    "\n",
    "\n",
    "embeddings = pc.inference.embed(\n",
    "    model=\"llama-text-embed-v2\",\n",
    "    inputs=[d['text'] for d in data],\n",
    "    parameters={\n",
    "        \"input_type\": \"passage\"\n",
    "    }\n",
    ")\n",
    "\n",
    "vectors = []\n",
    "for d, e in zip(data, embeddings):\n",
    "    vectors.append({\n",
    "        \"id\": str(uuid.uuid4()),\n",
    "        \"values\": e['values'],\n",
    "        \"metadata\": {'text': d['text'], 'start': d['start'], 'end': d['end']}\n",
    "    })\n",
    "\n",
    "\n",
    "index=pc.Index('synergy')\n",
    "print(index);\n",
    "index.upsert(\n",
    "    vectors=vectors,\n",
    "    namespace=\"ns1\"\n",
    ")"
   ]
  },
  {
   "cell_type": "code",
   "execution_count": null,
   "metadata": {},
   "outputs": [
    {
     "name": "stdout",
     "output_type": "stream",
     "text": [
      "{'matches': [{'id': '3fac198b-8c04-4c04-b94d-9033d8db6d4c',\n",
      "              'metadata': {'end': 726.27,\n",
      "                           'start': 606.27,\n",
      "                           'text': 'on how much calcium citrate I recovered. '\n",
      "                                   \"For those of you who are interested I've \"\n",
      "                                   'included all of my calculations here, as '\n",
      "                                   \"well as some explanations. If you don't \"\n",
      "                                   \"feel like reading it that's fine the only \"\n",
      "                                   'thing that you have to note is that I used '\n",
      "                                   'slightly less of sulfuric acid than '\n",
      "                                   'needed. I kept stirring it for several '\n",
      "                                   'minutes to make sure that the reaction '\n",
      "                                   'went to completion. Again went back to my '\n",
      "                                   'trusty vacuum filter and I separated off '\n",
      "                                   'the calcium sulfate. Even with the vacuum '\n",
      "                                   'on full the filtering process is kind of '\n",
      "                                   'slow. Once everything comes through though '\n",
      "                                   'I use a little bit of water to wash the '\n",
      "                                   'beaker and then I added to the filter. '\n",
      "                                   'Using a stir rod I mix things around to '\n",
      "                                   'give the calcium sulfate a good wash. '\n",
      "                                   'There might be some citric acid trapped in '\n",
      "                                   'the calcium sulfate and this can help to '\n",
      "                                   'pull it out. I repeated the washing step a '\n",
      "                                   \"couple times but it's important to use as \"\n",
      "                                   'little water as possible. little water as '\n",
      "                                   'possible. All of the citric acid is '\n",
      "                                   'dissolved in the water here and to isolate '\n",
      "                                   'it we need to evaporate it off. So moving '\n",
      "                                   'on, the filtrate that was pulled through '\n",
      "                                   'was then transferred to a beaker. With '\n",
      "                                   'strong stirring the hot plate is turned on '\n",
      "                                   'and I start to evaporate off the water. I '\n",
      "                                   'kept the water hot here probably around 70 '\n",
      "                                   \"or 80 °C and I didn't bring it to a full \"\n",
      "                                   'boil. Also just to speed things up I used '\n",
      "                                   'the fan to blow air over the top of the '\n",
      "                                   'beaker. As the volume decreased it slowly '\n",
      "                                   'took on a yellow color and eventually the '\n",
      "                                   'solution became opaque. The opaqueness is '\n",
      "                                   'due to some solid precipitating out and I '\n",
      "                                   \"think it's calcium citrate. This makes \"\n",
      "                                   'sense because I used a little less '\n",
      "                                   'sulfuric acid that needed, so some calcium '\n",
      "                                   'citrate remained unreacted. I use less '\n",
      "                                   'sulfuric acid than was needed to'},\n",
      "              'score': 0.0188745167,\n",
      "              'values': []},\n",
      "             {'id': '4c62899a-57fa-4888-89cd-df6875f14748',\n",
      "              'metadata': {'end': 847.459,\n",
      "                           'start': 727.459,\n",
      "                           'text': 'make sure that all of it was consumed. Any '\n",
      "                                   'unreacted sulfuric acid would be very hard '\n",
      "                                   'to separate out whereas any unreacted '\n",
      "                                   'calcium citrate can just be filtered off. '\n",
      "                                   'Once the volume of that around a hundred '\n",
      "                                   'milliliters I transferred to a smaller '\n",
      "                                   'beaker. It was further boiled down until '\n",
      "                                   'about 70 milliliters and then it was taken '\n",
      "                                   'off the hot plate. I let it cool down to '\n",
      "                                   'room temperature and then I transferred '\n",
      "                                   'into a bowl to evaporate. To separate off '\n",
      "                                   'the white powder it was pretty easy and I '\n",
      "                                   'just filtered it through a coffee filter. '\n",
      "                                   'Once everything is filtered through, I was '\n",
      "                                   'left with a nice and clear citric acid '\n",
      "                                   'solution. After letting it evaporate for '\n",
      "                                   'about a day, we can see that some crystals '\n",
      "                                   'have started to form. I then left it out '\n",
      "                                   'for about a week and this is what I saw '\n",
      "                                   'when I came back. I let it evaporate '\n",
      "                                   'further for another week and then I '\n",
      "                                   'transferred the crystals to a small '\n",
      "                                   \"beaker. In the bowl I'm left with a \"\n",
      "                                   'viscous brown goop and this can be '\n",
      "                                   'discarded. The small amount of crystals '\n",
      "                                   'that you see in the bowl here were also '\n",
      "                                   'transferred to the beaker. All of the '\n",
      "                                   'crystals were still wet so to dry them off '\n",
      "                                   'I dumped them onto a piece of paper. On '\n",
      "                                   \"top I have printer paper but below I've \"\n",
      "                                   'paper towel to help absorb the liquid. I '\n",
      "                                   'spread out the crystals and left it '\n",
      "                                   'overnight and by morning they were pretty '\n",
      "                                   'dry. When we zoom in on the larger chunk '\n",
      "                                   \"we can see that it's comprised of a lot of \"\n",
      "                                   'smaller crystals. The piece here is very '\n",
      "                                   \"fragile and once it's dry it's very easy \"\n",
      "                                   \"to break apart. Just for fun now I'm going \"\n",
      "                                   'to take a closer look at the crystals. '\n",
      "                                   'Using a crappy and cheap lens that I got a '\n",
      "                                   'few years ago, I was able to get some '\n",
      "                                   'decent shots. These are five crystals that '\n",
      "                                   'I picked out and lined up and you can see '\n",
      "                                   'that'},\n",
      "              'score': 0.0124011859,\n",
      "              'values': []},\n",
      "             {'id': '7043d87a-9856-451a-984a-c9822419ccfe',\n",
      "              'metadata': {'end': 363.09000000000003,\n",
      "                           'start': 243.09,\n",
      "                           'text': 'three and two fully neutralize it we need '\n",
      "                                   'to bring the solution up to a pH of about '\n",
      "                                   'five. For the second most acidic proton we '\n",
      "                                   'will need a pH around seven and for the '\n",
      "                                   'least acidic one, we need to bring it up '\n",
      "                                   'to about 8.5 or 9. Once we get a pH of '\n",
      "                                   'about nine, almost a hundred percent of '\n",
      "                                   'the citric acid should be neutralized. At '\n",
      "                                   'the pH increases, the solubility of other '\n",
      "                                   'things will decrease. This will cause a '\n",
      "                                   'lot of them to precipitate out and as we '\n",
      "                                   'continue to add sodium hydroxide more and '\n",
      "                                   \"more solid will form. I know I'm very \"\n",
      "                                   'close to a pH of about 8 or 9 when the '\n",
      "                                   'addition of sodium hydroxide generates an '\n",
      "                                   'orange color. I test the pH and I see that '\n",
      "                                   \"it's around 9. If the ph is a little bit \"\n",
      "                                   \"higher than 9 it's probably still ok. \"\n",
      "                                   'Anyway what we have here is a solution of '\n",
      "                                   'sodium citrate, with a lot of precipitate '\n",
      "                                   'and pulp. We need to filter it off, but I '\n",
      "                                   \"don't really recommend using a vacuum \"\n",
      "                                   'filtration. The filter paper is very '\n",
      "                                   'quickly blocked and liquid stops coming '\n",
      "                                   'through. I found it was much more '\n",
      "                                   'effective to just do a gravity filtration '\n",
      "                                   \"with some coffee filters. After here we'll \"\n",
      "                                   'also get blocked but I found it was a lot '\n",
      "                                   'easier to deal with. Once it inevitably '\n",
      "                                   'gets blocked I just take off the filter '\n",
      "                                   'funnel and pour all of the liquid into a '\n",
      "                                   'beaker. The clogged filter papers is then '\n",
      "                                   'removed and I replace it with a fresh '\n",
      "                                   'clean one. The liquid is then pour back in '\n",
      "                                   'and the filtration continues. The filter '\n",
      "                                   'paper is going to get blocked again and in '\n",
      "                                   'total the process is repeated three or '\n",
      "                                   'four times. It takes a couple hours but '\n",
      "                                   'once I was done I transferred the filtrate '\n",
      "                                   'to a beaker. The erlenmeyer flask was '\n",
      "                                   'cleaned and then the liquid was filtered '\n",
      "                                   'again.'},\n",
      "              'score': 0.00909904111,\n",
      "              'values': []}],\n",
      " 'namespace': 'ns1',\n",
      " 'usage': {'read_units': 6}}\n"
     ]
    }
   ],
   "source": [
    "# Define your query\n",
    "query = \"what crystals are we talking about?\"\n",
    "\n",
    "# Convert the query into a numerical vector that Pinecone can search with\n",
    "query_embedding = pc.inference.embed(\n",
    "    model=\"multilingual-e5-large\",\n",
    "    inputs=[query],\n",
    "    parameters={\n",
    "        \"input_type\": \"query\"\n",
    "    }\n",
    ")\n",
    "\n",
    "\n",
    "\n",
    "# Search the index for the three most similar vectors\n",
    "results = index.query(\n",
    "    namespace=\"ns1\",\n",
    "    vector=query_embedding[0].values,\n",
    "    top_k=2,\n",
    "    include_values=False,\n",
    "    include_metadata=True\n",
    ")\n",
    "\n",
    "\n",
    "print(results)\n"
   ]
  },
  {
   "cell_type": "code",
   "execution_count": 26,
   "metadata": {},
   "outputs": [
    {
     "data": {
      "text/plain": [
       "\"on how much calcium citrate I recovered. For those of you who are interested I've included all of my calculations here, as well as some explanations. If you don't feel like reading it that's fine the only thing that you have to note is that I used slightly less of sulfuric acid than needed. I kept stirring it for several minutes to make sure that the reaction went to completion. Again went back to my trusty vacuum filter and I separated off the calcium sulfate. Even with the vacuum on full the filtering process is kind of slow. Once everything comes through though I use a little bit of water to wash the beaker and then I added to the filter. Using a stir rod I mix things around to give the calcium sulfate a good wash. There might be some citric acid trapped in the calcium sulfate and this can help to pull it out. I repeated the washing step a couple times but it's important to use as little water as possible. little water as possible. All of the citric acid is dissolved in the water here and to isolate it we need to evaporate it off. So moving on, the filtrate that was pulled through was then transferred to a beaker. With strong stirring the hot plate is turned on and I start to evaporate off the water. I kept the water hot here probably around 70 or 80 °C and I didn't bring it to a full boil. Also just to speed things up I used the fan to blow air over the top of the beaker. As the volume decreased it slowly took on a yellow color and eventually the solution became opaque. The opaqueness is due to some solid precipitating out and I think it's calcium citrate. This makes sense because I used a little less sulfuric acid that needed, so some calcium citrate remained unreacted. I use less sulfuric acid than was needed to\""
      ]
     },
     "execution_count": 26,
     "metadata": {},
     "output_type": "execute_result"
    }
   ],
   "source": [
    "results.matches[0].metadata['text']"
   ]
  },
  {
   "cell_type": "code",
   "execution_count": null,
   "metadata": {},
   "outputs": [
    {
     "name": "stdout",
     "output_type": "stream",
     "text": [
      "on how much calcium citrate I recovered. For those of you who are interested I've included all of my calculations here, as well as some explanations. If you don't feel like reading it that's fine the only thing that you have to note is that I used slightly less of sulfuric acid than needed. I kept stirring it for several minutes to make sure that the reaction went to completion. Again went back to my trusty vacuum filter and I separated off the calcium sulfate. Even with the vacuum on full the filtering process is kind of slow. Once everything comes through though I use a little bit of water to wash the beaker and then I added to the filter. Using a stir rod I mix things around to give the calcium sulfate a good wash. There might be some citric acid trapped in the calcium sulfate and this can help to pull it out. I repeated the washing step a couple times but it's important to use as little water as possible. little water as possible. All of the citric acid is dissolved in the water here and to isolate it we need to evaporate it off. So moving on, the filtrate that was pulled through was then transferred to a beaker. With strong stirring the hot plate is turned on and I start to evaporate off the water. I kept the water hot here probably around 70 or 80 °C and I didn't bring it to a full boil. Also just to speed things up I used the fan to blow air over the top of the beaker. As the volume decreased it slowly took on a yellow color and eventually the solution became opaque. The opaqueness is due to some solid precipitating out and I think it's calcium citrate. This makes sense because I used a little less sulfuric acid that needed, so some calcium citrate remained unreacted. I use less sulfuric acid than was needed to---make sure that all of it was consumed. Any unreacted sulfuric acid would be very hard to separate out whereas any unreacted calcium citrate can just be filtered off. Once the volume of that around a hundred milliliters I transferred to a smaller beaker. It was further boiled down until about 70 milliliters and then it was taken off the hot plate. I let it cool down to room temperature and then I transferred into a bowl to evaporate. To separate off the white powder it was pretty easy and I just filtered it through a coffee filter. Once everything is filtered through, I was left with a nice and clear citric acid solution. After letting it evaporate for about a day, we can see that some crystals have started to form. I then left it out for about a week and this is what I saw when I came back. I let it evaporate further for another week and then I transferred the crystals to a small beaker. In the bowl I'm left with a viscous brown goop and this can be discarded. The small amount of crystals that you see in the bowl here were also transferred to the beaker. All of the crystals were still wet so to dry them off I dumped them onto a piece of paper. On top I have printer paper but below I've paper towel to help absorb the liquid. I spread out the crystals and left it overnight and by morning they were pretty dry. When we zoom in on the larger chunk we can see that it's comprised of a lot of smaller crystals. The piece here is very fragile and once it's dry it's very easy to break apart. Just for fun now I'm going to take a closer look at the crystals. Using a crappy and cheap lens that I got a few years ago, I was able to get some decent shots. These are five crystals that I picked out and lined up and you can see that---three and two fully neutralize it we need to bring the solution up to a pH of about five. For the second most acidic proton we will need a pH around seven and for the least acidic one, we need to bring it up to about 8.5 or 9. Once we get a pH of about nine, almost a hundred percent of the citric acid should be neutralized. At the pH increases, the solubility of other things will decrease. This will cause a lot of them to precipitate out and as we continue to add sodium hydroxide more and more solid will form. I know I'm very close to a pH of about 8 or 9 when the addition of sodium hydroxide generates an orange color. I test the pH and I see that it's around 9. If the ph is a little bit higher than 9 it's probably still ok. Anyway what we have here is a solution of sodium citrate, with a lot of precipitate and pulp. We need to filter it off, but I don't really recommend using a vacuum filtration. The filter paper is very quickly blocked and liquid stops coming through. I found it was much more effective to just do a gravity filtration with some coffee filters. After here we'll also get blocked but I found it was a lot easier to deal with. Once it inevitably gets blocked I just take off the filter funnel and pour all of the liquid into a beaker. The clogged filter papers is then removed and I replace it with a fresh clean one. The liquid is then pour back in and the filtration continues. The filter paper is going to get blocked again and in total the process is repeated three or four times. It takes a couple hours but once I was done I transferred the filtrate to a beaker. The erlenmeyer flask was cleaned and then the liquid was filtered again.---\n"
     ]
    }
   ],
   "source": [
    "relevant_text = \"\"\n",
    "for i in results.matches:\n",
    "    relevant_text += i.metadata['text'] + \"---\"\n",
    "\n"
   ]
  },
  {
   "cell_type": "code",
   "execution_count": 30,
   "metadata": {},
   "outputs": [],
   "source": [
    "from dotenv import load_dotenv\n",
    "from langchain_core.prompts import ChatPromptTemplate\n",
    "from langchain_groq import ChatGroq\n",
    "load_dotenv()\n",
    "import os\n",
    "GROQ_API_KEY = os.getenv(\"GROQ_API_KEY\")"
   ]
  },
  {
   "cell_type": "code",
   "execution_count": 37,
   "metadata": {},
   "outputs": [],
   "source": [
    "\n",
    "\n",
    "def answer_using_relevant_text(relevant_text):\n",
    "    \n",
    "    prompt = \"\"\"\n",
    "    Your role is to answer the question based on the information provided.\n",
    "    Be concise and to the point. Keep your answer short and simple using the information given yet comprehensive.\n",
    "    You are given import information to answer the question. You are given relevant information to answer the question.\n",
    "    Answer the question using the information provided.\n",
    "    \"\"\"\n",
    "\n",
    "\n",
    "    llm = ChatGroq(temperature=0, groq_api_key=GROQ_API_KEY, model_name=\"llama-3.1-8b-instant\")\n",
    "\n",
    "    # Build the full prompt with the transcript text\n",
    "    actual_prompt = ChatPromptTemplate.from_messages([\n",
    "        (\"system\", prompt + relevant_text),\n",
    "        (\"human\", \"{input}\")\n",
    "    ])\n",
    "\n",
    "    chain = actual_prompt | llm\n",
    "    inputt = f\"answer the question-{query} using the provided information\"\n",
    "    response = chain.invoke({\"input\": inputt})\n",
    "    \n",
    "    # Return the notes content\n",
    "    return response.content"
   ]
  },
  {
   "cell_type": "code",
   "execution_count": 38,
   "metadata": {},
   "outputs": [
    {
     "data": {
      "text/plain": [
       "'We are talking about calcium citrate crystals.'"
      ]
     },
     "execution_count": 38,
     "metadata": {},
     "output_type": "execute_result"
    }
   ],
   "source": [
    "answer_using_relevant_text(relevant_text)"
   ]
  },
  {
   "cell_type": "code",
   "execution_count": null,
   "metadata": {},
   "outputs": [],
   "source": []
  }
 ],
 "metadata": {
  "kernelspec": {
   "display_name": ".venv",
   "language": "python",
   "name": "python3"
  },
  "language_info": {
   "codemirror_mode": {
    "name": "ipython",
    "version": 3
   },
   "file_extension": ".py",
   "mimetype": "text/x-python",
   "name": "python",
   "nbconvert_exporter": "python",
   "pygments_lexer": "ipython3",
   "version": "3.11.3"
  }
 },
 "nbformat": 4,
 "nbformat_minor": 2
}
